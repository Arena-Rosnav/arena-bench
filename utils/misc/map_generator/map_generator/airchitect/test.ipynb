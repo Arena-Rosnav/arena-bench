{
 "cells": [
  {
   "cell_type": "code",
   "execution_count": null,
   "metadata": {},
   "outputs": [],
   "source": [
    "import requests\n",
    "import numpy as np\n",
    "import itertools"
   ]
  },
  {
   "cell_type": "code",
   "execution_count": null,
   "metadata": {},
   "outputs": [],
   "source": [
    "class Config:\n",
    "    class Room:\n",
    "        ID = (f'{i}' for i in itertools.count())\n",
    "        Types = ['Living Room', 'Kitchen', 'Bedroom', 'Bathroom', 'Balcony', 'Entrance', 'Dining Room', 'Study Room', 'Storage']\n",
    "\n",
    "    class Edge:\n",
    "        ID = (f'{i}' for i in  itertools.count())"
   ]
  },
  {
   "cell_type": "code",
   "execution_count": null,
   "metadata": {},
   "outputs": [],
   "source": [
    "def Node(room_type = None, corners = None):\n",
    "    if room_type is None or room_type not in Config.Room.Types: room_type = np.random.choice(Config.Room.Types)\n",
    "    if corners is None: corners = int(np.random.choice([4,6], p=[1.,0.]))\n",
    "    return {\n",
    "      \"id\": next(Config.Room.ID), # Nodes unique id   \n",
    "      \"room_type\": room_type, # Room Type in ['Living Room', 'Kitchen', 'Bedroom', 'Bathroom', 'Balcony', 'Entrance', 'Dining Room', 'Study Room', 'Storage', 'Front Door', 'Unknown', 'Interior Door']\n",
    "      \"corners\": corners # Number of Corners\n",
    "    }"
   ]
  },
  {
   "cell_type": "code",
   "execution_count": null,
   "metadata": {},
   "outputs": [],
   "source": [
    "rooms = [Node(*conf) for conf in [(),(),(),(),()]]\n",
    "\n",
    "edges = []\n",
    "\n",
    "import igraph as ig\n",
    "\n",
    "g = ig.Graph.Full(len(rooms))\n",
    "weights = list(range(g.ecount()))\n",
    "np.random.shuffle(weights)\n",
    "g.es[\"weight\"] = weights\n",
    "\n",
    "for edge in g.spanning_tree(weights=g.es[\"weight\"], return_tree=False):\n",
    "  a,b = g.es[edge].source, g.es[edge].target\n",
    "  if a<b:\n",
    "    edges.append({\n",
    "      \"id\": next(Config.Edge.ID), # Edge Unique id\n",
    "      \"source\": rooms[a]['id'], # First Nodes id\n",
    "      \"target\": rooms[b]['id']  # Second Nodes id\n",
    "    })"
   ]
  },
  {
   "cell_type": "code",
   "execution_count": null,
   "metadata": {},
   "outputs": [],
   "source": [
    "payload = {\n",
    "  \"nodes\": rooms,\n",
    "  \"edges\": edges,\n",
    "  \"metrics\": False # If True provides the length and width of rooms in pixels\n",
    "}"
   ]
  },
  {
   "cell_type": "code",
   "execution_count": null,
   "metadata": {},
   "outputs": [],
   "source": [
    "payload"
   ]
  },
  {
   "cell_type": "code",
   "execution_count": null,
   "metadata": {},
   "outputs": [],
   "source": [
    "req = requests.post('http://0.0.0.0:8000/generate', json=payload)"
   ]
  },
  {
   "cell_type": "code",
   "execution_count": null,
   "metadata": {},
   "outputs": [],
   "source": [
    "res = req.json()"
   ]
  },
  {
   "cell_type": "code",
   "execution_count": null,
   "metadata": {},
   "outputs": [],
   "source": [
    "from IPython import display\n",
    "from base64 import b64decode\n",
    "\n",
    "svg = res['dataUri'][0]\n",
    "display.HTML(f'<img src=\"{svg}\" />')"
   ]
  },
  {
   "cell_type": "code",
   "execution_count": null,
   "metadata": {},
   "outputs": [],
   "source": [
    "import io\n",
    "import PIL.Image\n",
    "import cairosvg\n",
    "\n",
    "img = io.BytesIO()\n",
    "cairosvg.svg2png(url=svg, write_to=img, scale=5)\n",
    "gray = np.array(PIL.Image.open(img)).mean(axis=-1).astype(int)\n",
    "\n",
    "occupied = np.argwhere(gray != 255)\n",
    "top_left = occupied.min(axis=0)\n",
    "bottom_right = occupied.max(axis=0)\n",
    "gray = gray[top_left[0]:bottom_right[0]+1, top_left[1]:bottom_right[1]+1]"
   ]
  },
  {
   "cell_type": "code",
   "execution_count": null,
   "metadata": {},
   "outputs": [],
   "source": [
    "from matplotlib import pyplot as plt\n",
    "\n",
    "\n",
    "plt.imshow(gray>0, cmap='gray')"
   ]
  },
  {
   "cell_type": "code",
   "execution_count": null,
   "metadata": {},
   "outputs": [],
   "source": []
  }
 ],
 "metadata": {
  "kernelspec": {
   "display_name": "Python 3",
   "language": "python",
   "name": "python3"
  },
  "language_info": {
   "codemirror_mode": {
    "name": "ipython",
    "version": 3
   },
   "file_extension": ".py",
   "mimetype": "text/x-python",
   "name": "python",
   "nbconvert_exporter": "python",
   "pygments_lexer": "ipython3",
   "version": "3.8.10"
  }
 },
 "nbformat": 4,
 "nbformat_minor": 2
}
