{
 "cells": [
  {
   "cell_type": "code",
   "execution_count": null,
   "metadata": {},
   "outputs": [],
   "source": [
    "import requests\n",
    "import numpy as np\n",
    "import itertools"
   ]
  },
  {
   "cell_type": "code",
   "execution_count": null,
   "metadata": {},
   "outputs": [],
   "source": [
    "class Config:\n",
    "    class Room:\n",
    "        ID = (f'{i}' for i in itertools.count())\n",
    "        Types = ['Living Room', 'Kitchen', 'Bedroom', 'Bathroom', 'Balcony', 'Entrance', 'Dining Room', 'Study Room', 'Storage']\n",
    "\n",
    "    class Edge:\n",
    "        ID = (f'{i}' for i in  itertools.count())"
   ]
  },
  {
   "cell_type": "code",
   "execution_count": null,
   "metadata": {},
   "outputs": [],
   "source": [
    "def Node(room_type = None, corners = None):\n",
    "    if room_type is None or room_type not in Config.Room.Types: room_type = np.random.choice(Config.Room.Types)\n",
    "    if corners is None: corners = int(np.random.choice([4,5,6], p=[1., .0, .0]))\n",
    "    return {\n",
    "      \"id\": next(Config.Room.ID), # Nodes unique id   \n",
    "      \"room_type\": room_type, # Room Type in ['Living Room', 'Kitchen', 'Bedroom', 'Bathroom', 'Balcony', 'Entrance', 'Dining Room', 'Study Room', 'Storage', 'Front Door', 'Unknown', 'Interior Door']\n",
    "      \"corners\": corners # Number of Corners\n",
    "    }"
   ]
  },
  {
   "cell_type": "code",
   "execution_count": null,
   "metadata": {},
   "outputs": [],
   "source": [
    "rooms = [Node(*conf) for conf in [(),(),(),(),()]]\n",
    "\n",
    "edges = []\n",
    "\n",
    "import igraph as ig\n",
    "\n",
    "g = ig.Graph.Full(len(rooms))\n",
    "weights = list(range(g.ecount()))\n",
    "np.random.shuffle(weights)\n",
    "g.es[\"weight\"] = weights\n",
    "\n",
    "for edge in g.spanning_tree(weights=g.es[\"weight\"], return_tree=False):\n",
    "  a,b = g.es[edge].source, g.es[edge].target\n",
    "  if a<b:\n",
    "    edges.append({\n",
    "      \"id\": next(Config.Edge.ID), # Edge Unique id\n",
    "      \"source\": rooms[a]['id'], # First Nodes id\n",
    "      \"target\": rooms[b]['id']  # Second Nodes id\n",
    "    })"
   ]
  },
  {
   "cell_type": "code",
   "execution_count": null,
   "metadata": {},
   "outputs": [],
   "source": [
    "payload = {\n",
    "  \"nodes\": rooms,\n",
    "  \"edges\": edges,\n",
    "  \"metrics\": False # If True provides the length and width of rooms in pixels\n",
    "}"
   ]
  },
  {
   "cell_type": "code",
   "execution_count": null,
   "metadata": {},
   "outputs": [],
   "source": [
    "payload"
   ]
  },
  {
   "cell_type": "code",
   "execution_count": null,
   "metadata": {},
   "outputs": [],
   "source": [
    "req = requests.post('http://0.0.0.0:8000/generate', json=payload)"
   ]
  },
  {
   "cell_type": "code",
   "execution_count": null,
   "metadata": {},
   "outputs": [],
   "source": [
    "res = req.json()"
   ]
  },
  {
   "cell_type": "code",
   "execution_count": null,
   "metadata": {},
   "outputs": [],
   "source": [
    "from IPython import display\n",
    "from base64 import b64decode\n",
    "\n",
    "svg = res['dataUri'][0]\n",
    "display.HTML(f'<img src=\"{svg}\" />')"
   ]
  },
  {
   "cell_type": "code",
   "execution_count": null,
   "metadata": {},
   "outputs": [],
   "source": [
    "import io\n",
    "import PIL.Image\n",
    "import cairosvg\n",
    "\n",
    "img = io.BytesIO()\n",
    "cairosvg.svg2png(url=svg, write_to=img, scale=5)\n",
    "gray = np.array(PIL.Image.open(img)).mean(axis=-1).astype(int)\n",
    "\n",
    "occupied = np.argwhere(gray != 255)\n",
    "top_left = occupied.min(axis=0)\n",
    "bottom_right = occupied.max(axis=0)\n",
    "gray = gray[top_left[0]:bottom_right[0]+1, top_left[1]:bottom_right[1]+1]"
   ]
  },
  {
   "cell_type": "code",
   "execution_count": null,
   "metadata": {},
   "outputs": [],
   "source": [
    "from matplotlib import pyplot as plt\n",
    "\n",
    "\n",
    "plt.imshow(gray>0, cmap='gray')"
   ]
  },
  {
   "cell_type": "code",
   "execution_count": null,
   "metadata": {},
   "outputs": [],
   "source": [
    "floorplan = res['floorplan'][0][0]\n",
    "floorplan"
   ]
  },
  {
   "cell_type": "code",
   "execution_count": null,
   "metadata": {},
   "outputs": [],
   "source": [
    "import typing\n",
    "import cv2\n",
    "import numpy as np\n",
    "\n",
    "def pairwise(iterable):\n",
    "    iterator = iter(iterable)\n",
    "    a = next(iterator, None)\n",
    "    for b in iterator:\n",
    "        yield a, b\n",
    "        a = b\n",
    "\n",
    "def intify(iterable):\n",
    "    return [int(x) for x in iterable]"
   ]
  },
  {
   "cell_type": "code",
   "execution_count": null,
   "metadata": {},
   "outputs": [],
   "source": [
    "canvas = np.zeros((floorplan['resolution'], floorplan['resolution']))\n",
    "\n",
    "lines: typing.Dict[int, typing.List] = {}\n",
    "\n",
    "for room in floorplan['rooms']:\n",
    "    if room['category'] in (0,): continue\n",
    "    for point_from, point_to in pairwise(map(intify, room['corners'] + [room['corners'][0]])):\n",
    "        angle = np.angle(complex(*np.array(point_to) - np.array(point_from)))\n",
    "        angle = int(np.trunc(180/np.pi * angle)) % 180\n",
    "        lines.setdefault(angle, []).append((point_from, point_to))\n",
    "\n",
    "for i, door in enumerate(floorplan['doors']):\n",
    "    if door['category'] in (11,13): continue\n",
    "\n",
    "    corners = np.array(door['corners'])\n",
    "\n",
    "    diagonal = np.abs(corners[0]-corners[2])\n",
    "    is_horizontal = diagonal[0] > diagonal[1]\n",
    "    long_neighbor = 1 if is_horizontal else -1\n",
    "\n",
    "    angle = np.angle(complex(*corners[long_neighbor] - corners[0]))\n",
    "    index_angle = int(np.trunc(180/np.pi * angle)) % 180\n",
    "    target = lines.setdefault(index_angle, [])\n",
    "\n",
    "    TF = np.array([\n",
    "        [np.cos(angle), -np.sin(angle)],\n",
    "        [np.sin(angle), np.cos(angle)]\n",
    "    ])\n",
    "    FT = np.flip(TF, (0,1)) # \"anti\"-transpose for right multiplying\n",
    "\n",
    "    corners = corners.dot(TF)\n",
    "    targets = np.array(target).dot(TF)\n",
    "\n",
    "    long_0, short_0 = np.min([corners[0], corners[2]], axis=0)\n",
    "    long_1, short_1 = np.max([corners[0], corners[2]], axis=0)\n",
    "    tolerance = (short_1 - short_0)/2\n",
    "\n",
    "    crosses_door = np.logical_and.reduce([\n",
    "        -tolerance <= np.mean(targets[:,:,1], axis=1) - short_0,\n",
    "        -tolerance <= short_1 - np.mean(targets[:,:,1], axis=1),\n",
    "        long_0 < np.max(targets[:,:,0], axis=1),\n",
    "        long_1 > np.min(targets[:,:,0], axis=1)\n",
    "    ])\n",
    "\n",
    "    for hit in reversed(np.where(crosses_door)[0]):\n",
    "\n",
    "        to_split = np.array(target.pop(hit)).dot(TF)\n",
    "        to_split = np.array(sorted(to_split.tolist(), key=lambda x: x[0]))\n",
    "        \n",
    "        short = np.mean(to_split[:,1]) # though short1==short2 is implicitly assumed already\n",
    "\n",
    "        if (end:=to_split[0][0]) < long_0:\n",
    "            target.append(\n",
    "                np.array([\n",
    "                    np.array([end, short]),\n",
    "                    np.array([long_0, short])\n",
    "                ]).dot(FT)\n",
    "            )\n",
    "    \n",
    "        if (end:=to_split[1][0]) > long_1:\n",
    "            target.append(\n",
    "                np.array([\n",
    "                    np.array([long_1, short]),\n",
    "                    np.array([end, short])\n",
    "                ]).dot(FT)\n",
    "            )\n",
    "\n",
    "            # lines_other.append(((long_0,short), (long_1,short)))\n",
    "\n",
    "for point_from, point_to in map(lambda x: map(intify, x), itertools.chain(*lines.values())):\n",
    "    cv2.line(canvas, point_from, point_to, 2, 1)\n",
    "\n",
    "plt.imshow(np.flip(np.max(canvas)-canvas, axis=0), cmap='gray')"
   ]
  },
  {
   "cell_type": "code",
   "execution_count": null,
   "metadata": {},
   "outputs": [],
   "source": [
    "import shapely\n",
    "\n",
    "rooms = shapely.GeometryCollection([shapely.LinearRing(room['corners']) for room in floorplan['rooms'] if room['category'] not in (0,)])\n",
    "doors = shapely.MultiPolygon([shapely.Polygon(door['corners']) for door in floorplan['doors'] if door['category'] not in (11,13)])\n",
    "\n",
    "shapely.difference(shapely.make_valid(rooms), shapely.make_valid(doors))"
   ]
  },
  {
   "cell_type": "code",
   "execution_count": null,
   "metadata": {},
   "outputs": [],
   "source": [
    "import shapely\n",
    "\n",
    "lines: typing.Dict[int, typing.Any] = {}\n",
    "\n",
    "for room in floorplan['rooms']:\n",
    "    if room['category'] in (0,): continue\n",
    "    for point_from, point_to in pairwise(map(intify, room['corners'] + [room['corners'][0]])):\n",
    "        angle = np.angle(complex(*np.array(point_to) - np.array(point_from)))\n",
    "        angle = int(np.trunc(180/np.pi * angle)) % 180\n",
    "        lines.setdefault(angle, []).append(shapely.LineString([point_from, point_to]))\n",
    "\n",
    "for angle, lst in lines.items():\n",
    "    lines[angle] = shapely.MultiLineString(lst)\n",
    "\n",
    "for i, door in enumerate(floorplan['doors']):\n",
    "    if door['category'] in (11,13): continue\n",
    "\n",
    "    corners = np.array(door['corners'])\n",
    "\n",
    "    diagonal = np.abs(corners[0]-corners[2])\n",
    "    is_horizontal = diagonal[0] > diagonal[1]\n",
    "    long_neighbor = 1 if is_horizontal else -1\n",
    "\n",
    "    angle = np.angle(complex(*corners[long_neighbor] - corners[0]))\n",
    "    index_angle = int(np.trunc(180/np.pi * angle)) % 180\n",
    "    \n",
    "    lines[index_angle] = lines.get(index_angle, shapely.MultiLineString()).difference(shapely.Polygon(corners))\n",
    "\n",
    "\n",
    "shapely.GeometryCollection(list(lines.values()))"
   ]
  },
  {
   "cell_type": "code",
   "execution_count": null,
   "metadata": {},
   "outputs": [],
   "source": []
  }
 ],
 "metadata": {
  "kernelspec": {
   "display_name": "Python 3",
   "language": "python",
   "name": "python3"
  },
  "language_info": {
   "codemirror_mode": {
    "name": "ipython",
    "version": 3
   },
   "file_extension": ".py",
   "mimetype": "text/x-python",
   "name": "python",
   "nbconvert_exporter": "python",
   "pygments_lexer": "ipython3",
   "version": "3.8.10"
  }
 },
 "nbformat": 4,
 "nbformat_minor": 2
}
